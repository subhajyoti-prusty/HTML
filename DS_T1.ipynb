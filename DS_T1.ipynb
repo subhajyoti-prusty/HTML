{
 "cells": [
  {
   "cell_type": "markdown",
   "id": "1f79ea06-ced7-4b68-bb9b-08dfc61be857",
   "metadata": {},
   "source": [
    "# Various DataType in Python\n",
    "\n",
    "## Numbers"
   ]
  },
  {
   "cell_type": "code",
   "execution_count": 1,
   "id": "3088b331-f419-41b1-96fa-8a51950fc647",
   "metadata": {},
   "outputs": [
    {
     "data": {
      "text/plain": [
       "2"
      ]
     },
     "execution_count": 1,
     "metadata": {},
     "output_type": "execute_result"
    }
   ],
   "source": [
    "1+1"
   ]
  },
  {
   "cell_type": "code",
   "execution_count": 2,
   "id": "5875e0e7-a99b-49d7-9fe9-95a0731fdc88",
   "metadata": {},
   "outputs": [
    {
     "data": {
      "text/plain": [
       "20"
      ]
     },
     "execution_count": 2,
     "metadata": {},
     "output_type": "execute_result"
    }
   ],
   "source": [
    "4*5"
   ]
  },
  {
   "cell_type": "code",
   "execution_count": 3,
   "id": "77ebbdc7-ad23-4542-9a79-1ac00a38f867",
   "metadata": {},
   "outputs": [
    {
     "data": {
      "text/plain": [
       "20"
      ]
     },
     "execution_count": 3,
     "metadata": {},
     "output_type": "execute_result"
    }
   ],
   "source": [
    "2*10"
   ]
  },
  {
   "cell_type": "code",
   "execution_count": 4,
   "id": "2fd94708-40bc-4edf-a54a-126dc5bc6da9",
   "metadata": {},
   "outputs": [
    {
     "data": {
      "text/plain": [
       "5.0"
      ]
     },
     "execution_count": 4,
     "metadata": {},
     "output_type": "execute_result"
    }
   ],
   "source": [
    "10/2"
   ]
  },
  {
   "cell_type": "code",
   "execution_count": 5,
   "id": "5a630a37-4310-4595-95c6-2fbeda8a03d5",
   "metadata": {},
   "outputs": [
    {
     "data": {
      "text/plain": [
       "0"
      ]
     },
     "execution_count": 5,
     "metadata": {},
     "output_type": "execute_result"
    }
   ],
   "source": [
    "10%2"
   ]
  },
  {
   "cell_type": "code",
   "execution_count": 6,
   "id": "1ba3314b-63c2-4b26-abe8-c2356caf29c2",
   "metadata": {},
   "outputs": [
    {
     "data": {
      "text/plain": [
       "100"
      ]
     },
     "execution_count": 6,
     "metadata": {},
     "output_type": "execute_result"
    }
   ],
   "source": [
    "10**2"
   ]
  },
  {
   "cell_type": "code",
   "execution_count": 7,
   "id": "027a4b1a-1df5-4669-b1b0-af69f212c884",
   "metadata": {},
   "outputs": [],
   "source": [
    "## Check the datatype "
   ]
  },
  {
   "cell_type": "code",
   "execution_count": 8,
   "id": "b45aa792-68da-43e0-ae13-d4e8a397337e",
   "metadata": {},
   "outputs": [
    {
     "data": {
      "text/plain": [
       "int"
      ]
     },
     "execution_count": 8,
     "metadata": {},
     "output_type": "execute_result"
    }
   ],
   "source": [
    "type(1)"
   ]
  },
  {
   "cell_type": "code",
   "execution_count": 9,
   "id": "a6a786d2-7db9-4d3c-991c-19c219dfe8f8",
   "metadata": {},
   "outputs": [
    {
     "data": {
      "text/plain": [
       "str"
      ]
     },
     "execution_count": 9,
     "metadata": {},
     "output_type": "execute_result"
    }
   ],
   "source": [
    "type(\"Hello world\")"
   ]
  },
  {
   "cell_type": "markdown",
   "id": "4c6d68f2-4026-4b09-9251-4a246707e1b0",
   "metadata": {},
   "source": [
    "## String"
   ]
  },
  {
   "cell_type": "code",
   "execution_count": 10,
   "id": "a2162771-407b-4d60-a1d6-1d6b73cc3191",
   "metadata": {},
   "outputs": [
    {
     "data": {
      "text/plain": [
       "'Subhajyoti'"
      ]
     },
     "execution_count": 10,
     "metadata": {},
     "output_type": "execute_result"
    }
   ],
   "source": [
    "\"Subhajyoti\""
   ]
  },
  {
   "cell_type": "code",
   "execution_count": 11,
   "id": "9188be3b-5f12-4de5-8247-c534c55c806f",
   "metadata": {},
   "outputs": [
    {
     "data": {
      "text/plain": [
       "'Subhajyoti'"
      ]
     },
     "execution_count": 11,
     "metadata": {},
     "output_type": "execute_result"
    }
   ],
   "source": [
    "'Subhajyoti'"
   ]
  },
  {
   "cell_type": "code",
   "execution_count": 12,
   "id": "108eb5d7-ea57-428e-a8d9-d50a432948f0",
   "metadata": {},
   "outputs": [
    {
     "data": {
      "text/plain": [
       "str"
      ]
     },
     "execution_count": 12,
     "metadata": {},
     "output_type": "execute_result"
    }
   ],
   "source": [
    "type(\"Subhajyoti\")"
   ]
  },
  {
   "cell_type": "markdown",
   "id": "dc08ea47-1f24-434d-a12e-1de1f06b3c94",
   "metadata": {},
   "source": [
    "## Variable Assignment"
   ]
  },
  {
   "cell_type": "code",
   "execution_count": 13,
   "id": "a3a628ed-8e37-4750-8c89-c6ae72639971",
   "metadata": {},
   "outputs": [],
   "source": [
    "# Syntax\n",
    "\n",
    "## Var_name = Value"
   ]
  },
  {
   "cell_type": "code",
   "execution_count": 14,
   "id": "ce4431ec-a5bf-4efa-abb6-cc26d35855d7",
   "metadata": {},
   "outputs": [
    {
     "data": {
      "text/plain": [
       "int"
      ]
     },
     "execution_count": 14,
     "metadata": {},
     "output_type": "execute_result"
    }
   ],
   "source": [
    "a = 10\n",
    "\n",
    "type(a)"
   ]
  },
  {
   "cell_type": "code",
   "execution_count": 15,
   "id": "56417eb2-4853-4eef-b405-5c7292b8e610",
   "metadata": {},
   "outputs": [
    {
     "data": {
      "text/plain": [
       "str"
      ]
     },
     "execution_count": 15,
     "metadata": {},
     "output_type": "execute_result"
    }
   ],
   "source": [
    "a = \"Subha\"\n",
    "\n",
    "type(a)"
   ]
  },
  {
   "cell_type": "code",
   "execution_count": 16,
   "id": "75566296-ccdb-42ac-b073-dae6e18967bd",
   "metadata": {},
   "outputs": [],
   "source": [
    "## Mathemetical Opetration with Variable Assignment \n",
    "\n",
    "a = 10\n",
    "b = 20"
   ]
  },
  {
   "cell_type": "code",
   "execution_count": 19,
   "id": "565f29d1-2051-4db1-b8c4-c218f0607909",
   "metadata": {},
   "outputs": [
    {
     "name": "stdout",
     "output_type": "stream",
     "text": [
      "30\n",
      "-10\n",
      "200\n",
      "0.5\n",
      "200.5\n"
     ]
    }
   ],
   "source": [
    "print(a+b)\n",
    "print(a-b)\n",
    "print(a*b)\n",
    "print(a/b)\n",
    "print((a*b)+(a/b))"
   ]
  },
  {
   "cell_type": "code",
   "execution_count": 20,
   "id": "2dec074a-91c9-45a7-8126-b9ab584c4f43",
   "metadata": {},
   "outputs": [
    {
     "name": "stdout",
     "output_type": "stream",
     "text": [
      "Hello\n"
     ]
    }
   ],
   "source": [
    "## Various Ways of Printing \n",
    "\n",
    "print(\"Hello\")"
   ]
  },
  {
   "cell_type": "code",
   "execution_count": 21,
   "id": "6dd99793-8d00-4fbf-b65c-1234d8f6adb2",
   "metadata": {},
   "outputs": [
    {
     "name": "stdout",
     "output_type": "stream",
     "text": [
      "My first name is Subhajyoti and last name is Prusty\n"
     ]
    }
   ],
   "source": [
    "First_name = \"Subhajyoti\"\n",
    "Last_name = \"Prusty\"\n",
    "\n",
    "print(\"My first name is {} and last name is {}\".format(First_name,Last_name))"
   ]
  },
  {
   "cell_type": "code",
   "execution_count": 22,
   "id": "af919153-d979-4b39-836d-9a3f7fc2a10b",
   "metadata": {},
   "outputs": [
    {
     "name": "stdout",
     "output_type": "stream",
     "text": [
      "My first name is Subhajyoti and last name is Prusty\n"
     ]
    }
   ],
   "source": [
    "print(\"My first name is {First} and last name is {Last}\".format(First = First_name,Last = Last_name))"
   ]
  },
  {
   "cell_type": "code",
   "execution_count": 24,
   "id": "e3bd5cd6-89cd-49c5-baa7-7b77e7778415",
   "metadata": {},
   "outputs": [
    {
     "data": {
      "text/plain": [
       "10"
      ]
     },
     "execution_count": 24,
     "metadata": {},
     "output_type": "execute_result"
    }
   ],
   "source": [
    "## Length function\n",
    "\n",
    "len(\"Subhajyoti\")"
   ]
  },
  {
   "cell_type": "code",
   "execution_count": null,
   "id": "b3c9544d-a827-463e-a9d9-170215be0a4a",
   "metadata": {},
   "outputs": [],
   "source": []
  }
 ],
 "metadata": {
  "kernelspec": {
   "display_name": "Python 3 (ipykernel)",
   "language": "python",
   "name": "python3"
  },
  "language_info": {
   "codemirror_mode": {
    "name": "ipython",
    "version": 3
   },
   "file_extension": ".py",
   "mimetype": "text/x-python",
   "name": "python",
   "nbconvert_exporter": "python",
   "pygments_lexer": "ipython3",
   "version": "3.11.7"
  }
 },
 "nbformat": 4,
 "nbformat_minor": 5
}
