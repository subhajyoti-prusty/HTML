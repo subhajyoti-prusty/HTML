{
 "cells": [
  {
   "cell_type": "markdown",
   "id": "17240011-d0b1-42ed-b5f2-cd5ef58a2057",
   "metadata": {},
   "source": [
    "# Python Data Structures and Boolean\n",
    "- Boolean\n",
    "- Boolean and Logical Operators\n",
    "- list\n",
    "- Comparison Operators\n",
    "- Dictionaries\n",
    "- Tuples\n",
    "- Sets"
   ]
  },
  {
   "cell_type": "markdown",
   "id": "0a5a0ecb-6b11-4823-b913-acf3aa9ff187",
   "metadata": {},
   "source": [
    "## Boolean Variables\r\n",
    "- Boolean values are the two constant objects False and True.\n",
    "- They are used to represent truth values (other values can also be considered false or true).\n",
    "- In numeric contexts (for example, when used as the argument to an arithmetic operator), they behave like the integers 0 and 1, respectively.\n",
    "- The built-in function bool() can be used to cast any value to a Boolean, if the value can be interpreted as a truth value.\n",
    "- They are written as False and True, respectivelyely."
   ]
  },
  {
   "cell_type": "code",
   "execution_count": 1,
   "id": "80dc2dce-0bfd-4baa-b8c0-36b8b4e05c40",
   "metadata": {},
   "outputs": [
    {
     "data": {
      "text/plain": [
       "False"
      ]
     },
     "execution_count": 1,
     "metadata": {},
     "output_type": "execute_result"
    }
   ],
   "source": [
    "bool()"
   ]
  },
  {
   "cell_type": "code",
   "execution_count": 2,
   "id": "5b3265c5-87bf-4bd9-9eb7-dbba8a9e07f0",
   "metadata": {},
   "outputs": [
    {
     "name": "stdout",
     "output_type": "stream",
     "text": [
      "True False\n"
     ]
    }
   ],
   "source": [
    "print(True,False)"
   ]
  },
  {
   "cell_type": "code",
   "execution_count": 3,
   "id": "73054d74-bfd8-406d-8127-276bd4d7dee6",
   "metadata": {},
   "outputs": [
    {
     "data": {
      "text/plain": [
       "bool"
      ]
     },
     "execution_count": 3,
     "metadata": {},
     "output_type": "execute_result"
    }
   ],
   "source": [
    "type(True)\n",
    "type(False)"
   ]
  },
  {
   "cell_type": "code",
   "execution_count": 7,
   "id": "fcbfbd80-2270-44fe-ac99-b838b9488aa4",
   "metadata": {},
   "outputs": [],
   "source": [
    "my_str=\"Subha\""
   ]
  },
  {
   "cell_type": "code",
   "execution_count": 8,
   "id": "f7168afe-f1d7-4e77-b286-60615ab39dfc",
   "metadata": {},
   "outputs": [
    {
     "name": "stdout",
     "output_type": "stream",
     "text": [
      "True\n"
     ]
    }
   ],
   "source": [
    "print(my_str.isalnum())"
   ]
  },
  {
   "cell_type": "code",
   "execution_count": 11,
   "id": "51c6c4e8-68c8-4de6-b7d8-0f94e93d2814",
   "metadata": {},
   "outputs": [
    {
     "name": "stdout",
     "output_type": "stream",
     "text": [
      "True\n",
      "True\n",
      "False\n",
      "True\n",
      "False\n",
      "False\n",
      "False\n",
      "False\n",
      "False\n"
     ]
    }
   ],
   "source": [
    "print(my_str.isalnum()) #check if all char are numbers\n",
    "print(my_str.isalpha()) #check if all char in the string are alphabetic\n",
    "print(my_str.isdigit()) #test if string contains digits\n",
    "print(my_str.istitle()) #test if string contains title words\n",
    "print(my_str.isupper()) #test if string contains upper case \n",
    "print(my_str.islower()) #test if string contains Lower case\n",
    "print(my_str.isspace()) #test if string contains spaces \n",
    "print(my_str.endswith('S')) #test if string endswith\n",
    "print(my_str.startswith('i')) #test if string startswith"
   ]
  },
  {
   "cell_type": "markdown",
   "id": "b97e48a2-ad37-4b09-be5c-c71d285462d7",
   "metadata": {},
   "source": [
    "## Boolean and Logiacal Operator"
   ]
  },
  {
   "cell_type": "code",
   "execution_count": 1,
   "id": "ad7add83-5aa4-4e68-a49c-290a854b3d9c",
   "metadata": {},
   "outputs": [
    {
     "data": {
      "text/plain": [
       "True"
      ]
     },
     "execution_count": 1,
     "metadata": {},
     "output_type": "execute_result"
    }
   ],
   "source": [
    "True and True "
   ]
  },
  {
   "cell_type": "code",
   "execution_count": 2,
   "id": "56760ddb-26f1-4430-83f7-9eaaec4c36c5",
   "metadata": {},
   "outputs": [
    {
     "data": {
      "text/plain": [
       "False"
      ]
     },
     "execution_count": 2,
     "metadata": {},
     "output_type": "execute_result"
    }
   ],
   "source": [
    "True and False"
   ]
  },
  {
   "cell_type": "code",
   "execution_count": 3,
   "id": "0fbc15cf-ee6c-493f-a51f-79e92f18a5dd",
   "metadata": {},
   "outputs": [
    {
     "data": {
      "text/plain": [
       "True"
      ]
     },
     "execution_count": 3,
     "metadata": {},
     "output_type": "execute_result"
    }
   ],
   "source": [
    "True or True "
   ]
  },
  {
   "cell_type": "code",
   "execution_count": 5,
   "id": "c8ee9dc2-5d35-4508-ae7d-c574fa9f97e5",
   "metadata": {},
   "outputs": [
    {
     "data": {
      "text/plain": [
       "True"
      ]
     },
     "execution_count": 5,
     "metadata": {},
     "output_type": "execute_result"
    }
   ],
   "source": [
    "True or False"
   ]
  },
  {
   "cell_type": "code",
   "execution_count": 8,
   "id": "8924a26f-06e7-4080-8f4d-6683b72965c7",
   "metadata": {},
   "outputs": [],
   "source": [
    "str_example = 'Hello'\n",
    "my_str = 'Subha'"
   ]
  },
  {
   "cell_type": "code",
   "execution_count": 10,
   "id": "c28626e1-b878-47ac-8db7-f54d1746f37a",
   "metadata": {},
   "outputs": [
    {
     "data": {
      "text/plain": [
       "True"
      ]
     },
     "execution_count": 10,
     "metadata": {},
     "output_type": "execute_result"
    }
   ],
   "source": [
    "my_str.isalpha() or str_example.isnum()"
   ]
  },
  {
   "cell_type": "markdown",
   "id": "9aabd2ad-2f54-4fe9-bc68-6bfa7122272a",
   "metadata": {},
   "source": [
    "## List\n",
    "\n",
    "A list is a data structure in Python that is a mutable, or changeable, ordered sequence of elements. Each element or value that is inside of a list is called an item. Just as strings are defined as characters between quotes, lists are defined by having values between square brackets [ ]"
   ]
  },
  {
   "cell_type": "code",
   "execution_count": 11,
   "id": "9ef4f897-1d89-4573-bb26-64017a72193e",
   "metadata": {},
   "outputs": [
    {
     "data": {
      "text/plain": [
       "list"
      ]
     },
     "execution_count": 11,
     "metadata": {},
     "output_type": "execute_result"
    }
   ],
   "source": [
    "type([])"
   ]
  },
  {
   "cell_type": "code",
   "execution_count": 13,
   "id": "40a22631-4079-45f0-98dc-4655dfd72ebe",
   "metadata": {},
   "outputs": [],
   "source": [
    "lst_example=[]"
   ]
  },
  {
   "cell_type": "code",
   "execution_count": 14,
   "id": "1cb5e0f8-de23-43cd-ba1d-5a6840ae8592",
   "metadata": {},
   "outputs": [
    {
     "data": {
      "text/plain": [
       "list"
      ]
     },
     "execution_count": 14,
     "metadata": {},
     "output_type": "execute_result"
    }
   ],
   "source": [
    "type(lst_example)"
   ]
  },
  {
   "cell_type": "code",
   "execution_count": 47,
   "id": "4f21fd43-0a43-4a14-a49d-b5f12ce62af8",
   "metadata": {},
   "outputs": [],
   "source": [
    "lst=list()"
   ]
  },
  {
   "cell_type": "code",
   "execution_count": 16,
   "id": "663fa21b-013b-4a56-8b80-c7043168d033",
   "metadata": {},
   "outputs": [
    {
     "data": {
      "text/plain": [
       "list"
      ]
     },
     "execution_count": 16,
     "metadata": {},
     "output_type": "execute_result"
    }
   ],
   "source": [
    "type(lst)"
   ]
  },
  {
   "cell_type": "code",
   "execution_count": 55,
   "id": "1988bab2-8162-4cbf-a75f-70e08cf019ed",
   "metadata": {},
   "outputs": [],
   "source": [
    "lst=['Mathematics', 'chemistry', 100, 200, 300, 204]"
   ]
  },
  {
   "cell_type": "code",
   "execution_count": 18,
   "id": "11e063d0-74bc-46ce-b543-0bc97521938a",
   "metadata": {},
   "outputs": [
    {
     "data": {
      "text/plain": [
       "6"
      ]
     },
     "execution_count": 18,
     "metadata": {},
     "output_type": "execute_result"
    }
   ],
   "source": [
    "len(lst)"
   ]
  },
  {
   "cell_type": "code",
   "execution_count": 19,
   "id": "fc0181b6-8a31-4697-83f7-5896df24caa5",
   "metadata": {},
   "outputs": [
    {
     "data": {
      "text/plain": [
       "list"
      ]
     },
     "execution_count": 19,
     "metadata": {},
     "output_type": "execute_result"
    }
   ],
   "source": [
    "type(lst)"
   ]
  },
  {
   "cell_type": "markdown",
   "id": "7f974c49-8a61-4d84-8efb-1597987f8c4f",
   "metadata": {},
   "source": [
    "## Append"
   ]
  },
  {
   "cell_type": "code",
   "execution_count": 56,
   "id": "b5fd702f-e40a-4e98-acc3-a7997de73a2d",
   "metadata": {},
   "outputs": [],
   "source": [
    "#.append is used to add elements in the list\n",
    "lst.append(\"Krish\")"
   ]
  },
  {
   "cell_type": "code",
   "execution_count": 57,
   "id": "a2cf68aa-e3af-444d-b621-77b65773c68a",
   "metadata": {},
   "outputs": [],
   "source": [
    "lst.append([\"John\",\"Bala\"])"
   ]
  },
  {
   "cell_type": "code",
   "execution_count": 58,
   "id": "74113acd-6a45-4eda-ba2c-062d995484b2",
   "metadata": {},
   "outputs": [
    {
     "data": {
      "text/plain": [
       "['Mathematics', 'chemistry', 100, 200, 300, 204, 'krish', ['John', 'Bala']]"
      ]
     },
     "execution_count": 58,
     "metadata": {},
     "output_type": "execute_result"
    }
   ],
   "source": [
    "lst"
   ]
  },
  {
   "cell_type": "code",
   "execution_count": 23,
   "id": "59fce3f4-a078-4902-a818-b57dd69b049e",
   "metadata": {},
   "outputs": [
    {
     "data": {
      "text/plain": [
       "'Krish'"
      ]
     },
     "execution_count": 23,
     "metadata": {},
     "output_type": "execute_result"
    }
   ],
   "source": [
    "##Indexing in List\n",
    "lst[6]"
   ]
  },
  {
   "cell_type": "code",
   "execution_count": 24,
   "id": "4ba944ac-25fc-4963-bc10-ca9bf876804a",
   "metadata": {},
   "outputs": [
    {
     "data": {
      "text/plain": [
       "['chemistry', 100, 200, 300, 204]"
      ]
     },
     "execution_count": 24,
     "metadata": {},
     "output_type": "execute_result"
    }
   ],
   "source": [
    "lst[1:6]"
   ]
  },
  {
   "cell_type": "markdown",
   "id": "03cd5b5d-bb0e-4117-8840-c513510a31a7",
   "metadata": {},
   "source": [
    "## Insert\n"
   ]
  },
  {
   "cell_type": "code",
   "execution_count": 25,
   "id": "5419e406-f520-47c7-9856-101d53489791",
   "metadata": {},
   "outputs": [],
   "source": [
    "## insert in a specific order\n",
    "\n",
    "lst.insert(2,\"Naik\")"
   ]
  },
  {
   "cell_type": "code",
   "execution_count": 26,
   "id": "b183441c-0ee4-496e-8be8-9980ee65bae1",
   "metadata": {},
   "outputs": [
    {
     "data": {
      "text/plain": [
       "['Mathematics',\n",
       " 'chemistry',\n",
       " 'Naik',\n",
       " 100,\n",
       " 200,\n",
       " 300,\n",
       " 204,\n",
       " 'Krish',\n",
       " ['John', 'Bala']]"
      ]
     },
     "execution_count": 26,
     "metadata": {},
     "output_type": "execute_result"
    }
   ],
   "source": [
    "lst"
   ]
  },
  {
   "cell_type": "code",
   "execution_count": 27,
   "id": "4aebd780-355f-4695-b5b4-d5687701e846",
   "metadata": {},
   "outputs": [],
   "source": [
    "lst.append([\"Hello\",\"World\"])"
   ]
  },
  {
   "cell_type": "code",
   "execution_count": 28,
   "id": "3287e29c-27f8-4171-9dc9-e097b3ccb9bc",
   "metadata": {},
   "outputs": [
    {
     "data": {
      "text/plain": [
       "['Mathematics',\n",
       " 'chemistry',\n",
       " 'Naik',\n",
       " 100,\n",
       " 200,\n",
       " 300,\n",
       " 204,\n",
       " 'Krish',\n",
       " ['John', 'Bala'],\n",
       " ['Hello', 'World']]"
      ]
     },
     "execution_count": 28,
     "metadata": {},
     "output_type": "execute_result"
    }
   ],
   "source": [
    "lst"
   ]
  },
  {
   "cell_type": "code",
   "execution_count": 29,
   "id": "5eca4e18-cb31-4ad6-b9d8-087728e21cb7",
   "metadata": {},
   "outputs": [],
   "source": [
    "lst=[1,2,3]"
   ]
  },
  {
   "cell_type": "code",
   "execution_count": 30,
   "id": "13fc426b-38b6-474b-b705-2e0b057d677f",
   "metadata": {},
   "outputs": [],
   "source": [
    "lst.append([4,5])"
   ]
  },
  {
   "cell_type": "code",
   "execution_count": 31,
   "id": "e73f7b88-ed41-4f6f-b660-2853e351a3ab",
   "metadata": {},
   "outputs": [
    {
     "data": {
      "text/plain": [
       "[1, 2, 3, [4, 5]]"
      ]
     },
     "execution_count": 31,
     "metadata": {},
     "output_type": "execute_result"
    }
   ],
   "source": [
    "lst"
   ]
  },
  {
   "cell_type": "markdown",
   "id": "7265042c-d383-4b07-8dce-3c2975245556",
   "metadata": {},
   "source": [
    "## Extend Method"
   ]
  },
  {
   "cell_type": "code",
   "execution_count": 32,
   "id": "6337ce20-9721-436b-8154-399e5aecffe5",
   "metadata": {},
   "outputs": [],
   "source": [
    "lst=[1,2,3,4,5,6]"
   ]
  },
  {
   "cell_type": "code",
   "execution_count": 33,
   "id": "8dd78358-aae7-491c-a88e-2ca522ea74f6",
   "metadata": {},
   "outputs": [],
   "source": [
    "lst.extend([8,9])"
   ]
  },
  {
   "cell_type": "code",
   "execution_count": 34,
   "id": "65b5a1c6-ab97-432a-9bf8-5bdc4ffc6c24",
   "metadata": {},
   "outputs": [
    {
     "data": {
      "text/plain": [
       "[1, 2, 3, 4, 5, 6, 8, 9]"
      ]
     },
     "execution_count": 34,
     "metadata": {},
     "output_type": "execute_result"
    }
   ],
   "source": [
    "lst"
   ]
  },
  {
   "cell_type": "markdown",
   "id": "cd9c3e01-00af-4ab5-8a7b-8993feccb6c8",
   "metadata": {},
   "source": [
    "## Various Operations that we can perform in List"
   ]
  },
  {
   "cell_type": "code",
   "execution_count": 59,
   "id": "2b7a8afb-8405-4d99-af62-fe9e1088d4ea",
   "metadata": {},
   "outputs": [],
   "source": [
    "lst=[1,2,3,4,5]"
   ]
  },
  {
   "cell_type": "code",
   "execution_count": 36,
   "id": "7746c3a1-df8f-4fa5-8533-9c729c4a292f",
   "metadata": {},
   "outputs": [
    {
     "data": {
      "text/plain": [
       "15"
      ]
     },
     "execution_count": 36,
     "metadata": {},
     "output_type": "execute_result"
    }
   ],
   "source": [
    "sum(lst)"
   ]
  },
  {
   "cell_type": "code",
   "execution_count": 37,
   "id": "2d00fe17-536e-4906-be98-8e8f964c40b3",
   "metadata": {},
   "outputs": [
    {
     "data": {
      "text/plain": [
       "[1, 2, 3, 4, 5, 1, 2, 3, 4, 5, 1, 2, 3, 4, 5, 1, 2, 3, 4, 5, 1, 2, 3, 4, 5]"
      ]
     },
     "execution_count": 37,
     "metadata": {},
     "output_type": "execute_result"
    }
   ],
   "source": [
    "lst*5"
   ]
  },
  {
   "cell_type": "markdown",
   "id": "dacb17dd-f4bc-448c-a8a4-abe137e48642",
   "metadata": {},
   "source": [
    "## Pop() Method\n"
   ]
  },
  {
   "cell_type": "code",
   "execution_count": 38,
   "id": "a9a8f6ad-7482-4516-b909-98f8ce28fc71",
   "metadata": {},
   "outputs": [
    {
     "data": {
      "text/plain": [
       "5"
      ]
     },
     "execution_count": 38,
     "metadata": {},
     "output_type": "execute_result"
    }
   ],
   "source": [
    "lst.pop()"
   ]
  },
  {
   "cell_type": "code",
   "execution_count": 60,
   "id": "9b73a5d6-4d84-4d4a-9ba6-055d32c9c2e1",
   "metadata": {},
   "outputs": [
    {
     "data": {
      "text/plain": [
       "[1, 2, 3, 4, 5]"
      ]
     },
     "execution_count": 60,
     "metadata": {},
     "output_type": "execute_result"
    }
   ],
   "source": [
    "lst"
   ]
  },
  {
   "cell_type": "code",
   "execution_count": 61,
   "id": "7ce8c0ed-94fb-4136-aa22-f7a06f095fa1",
   "metadata": {},
   "outputs": [
    {
     "data": {
      "text/plain": [
       "3"
      ]
     },
     "execution_count": 61,
     "metadata": {},
     "output_type": "execute_result"
    }
   ],
   "source": [
    "lst.pop(2)"
   ]
  },
  {
   "cell_type": "code",
   "execution_count": 62,
   "id": "fba23f72-f7cf-497d-b881-9b97760df76b",
   "metadata": {},
   "outputs": [
    {
     "data": {
      "text/plain": [
       "[1, 2, 4, 5]"
      ]
     },
     "execution_count": 62,
     "metadata": {},
     "output_type": "execute_result"
    }
   ],
   "source": [
    "lst"
   ]
  },
  {
   "cell_type": "markdown",
   "id": "8d81e15f-361b-4507-8eb2-31d80aa813e7",
   "metadata": {},
   "source": [
    "## count()\n",
    "\n",
    "Calculates total occurrence of given element of List"
   ]
  },
  {
   "cell_type": "code",
   "execution_count": 42,
   "id": "70d335ab-d664-4d11-ba69-d5a840d37e90",
   "metadata": {},
   "outputs": [
    {
     "data": {
      "text/plain": [
       "2"
      ]
     },
     "execution_count": 42,
     "metadata": {},
     "output_type": "execute_result"
    }
   ],
   "source": [
    "lst=[1,1,2,3,4,5]\n",
    "lst.count(1)"
   ]
  },
  {
   "cell_type": "code",
   "execution_count": 43,
   "id": "49f89d78-be36-48b5-9e80-9191c79361d5",
   "metadata": {},
   "outputs": [
    {
     "data": {
      "text/plain": [
       "6"
      ]
     },
     "execution_count": 43,
     "metadata": {},
     "output_type": "execute_result"
    }
   ],
   "source": [
    "#length:Calculates total length of List\n",
    "len(lst)"
   ]
  },
  {
   "cell_type": "code",
   "execution_count": 44,
   "id": "2e44e658-04e2-402f-ba32-ab851971c5bd",
   "metadata": {},
   "outputs": [
    {
     "data": {
      "text/plain": [
       "1"
      ]
     },
     "execution_count": 44,
     "metadata": {},
     "output_type": "execute_result"
    }
   ],
   "source": [
    "# index(): Returns the index of first occurrence. Start and End index are not necessary parameters\n",
    "lst.index(1,1,4)"
   ]
  },
  {
   "cell_type": "code",
   "execution_count": 45,
   "id": "cc0e9894-254f-49ad-a49a-3a184523728a",
   "metadata": {},
   "outputs": [
    {
     "data": {
      "text/plain": [
       "1"
      ]
     },
     "execution_count": 45,
     "metadata": {},
     "output_type": "execute_result"
    }
   ],
   "source": [
    "##Min and Max\n",
    "min(lst)"
   ]
  },
  {
   "cell_type": "code",
   "execution_count": 46,
   "id": "454bd3da-ce46-47ee-a623-2d1d202c3868",
   "metadata": {},
   "outputs": [
    {
     "data": {
      "text/plain": [
       "5"
      ]
     },
     "execution_count": 46,
     "metadata": {},
     "output_type": "execute_result"
    }
   ],
   "source": [
    "max(lst)"
   ]
  }
 ],
 "metadata": {
  "kernelspec": {
   "display_name": "Python 3 (ipykernel)",
   "language": "python",
   "name": "python3"
  },
  "language_info": {
   "codemirror_mode": {
    "name": "ipython",
    "version": 3
   },
   "file_extension": ".py",
   "mimetype": "text/x-python",
   "name": "python",
   "nbconvert_exporter": "python",
   "pygments_lexer": "ipython3",
   "version": "3.11.7"
  }
 },
 "nbformat": 4,
 "nbformat_minor": 5
}
